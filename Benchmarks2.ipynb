{
 "cells": [
  {
   "cell_type": "markdown",
   "metadata": {},
   "source": [
    "# Comparison of time efficiency for JVM, python, scheme C, and pypy."
   ]
  },
  {
   "cell_type": "code",
   "execution_count": 2,
   "metadata": {
    "collapsed": true
   },
   "outputs": [],
   "source": [
    "# Sum of primes below 1000000 in python, scheme, java and C, and pypy\n"
   ]
  },
  {
   "cell_type": "code",
   "execution_count": 3,
   "metadata": {
    "collapsed": false
   },
   "outputs": [],
   "source": [
    "import Euler as eu"
   ]
  },
  {
   "cell_type": "code",
   "execution_count": 1,
   "metadata": {
    "collapsed": false
   },
   "outputs": [],
   "source": [
    "def sum_primes_below(n):\n",
    "    sum = 0\n",
    "    i = 2\n",
    "    while i <= n:\n",
    "        if eu.miller_rabin(i):\n",
    "            sum +=i\n",
    "            i += 1\n",
    "        else:\n",
    "            i += 1\n",
    "    return sum"
   ]
  },
  {
   "cell_type": "code",
   "execution_count": 14,
   "metadata": {
    "collapsed": false
   },
   "outputs": [
    {
     "name": "stdout",
     "output_type": "stream",
     "text": [
      "37550402023\n",
      "CPU times: user 16 s, sys: 0 ns, total: 16 s\n",
      "Wall time: 16 s\n"
     ]
    }
   ],
   "source": [
    "#cpython:\n",
    "%time print(sum_primes_below(1000000))"
   ]
  },
  {
   "cell_type": "code",
   "execution_count": 15,
   "metadata": {
    "collapsed": false
   },
   "outputs": [
    {
     "name": "stdout",
     "output_type": "stream",
     "text": [
      "37550402023\n",
      "CPU times: user 248 ms, sys: 28 ms, total: 276 ms\n",
      "Wall time: 14 s\n"
     ]
    }
   ],
   "source": [
    "#racket scheme:\n",
    "% time! racket racket_tests.rkt"
   ]
  },
  {
   "cell_type": "code",
   "execution_count": 17,
   "metadata": {
    "collapsed": false
   },
   "outputs": [],
   "source": [
    "! touch Benchmarks.java"
   ]
  },
  {
   "cell_type": "code",
   "execution_count": 20,
   "metadata": {
    "collapsed": false
   },
   "outputs": [],
   "source": [
    "! javac Benchmarks.java"
   ]
  },
  {
   "cell_type": "code",
   "execution_count": 31,
   "metadata": {
    "collapsed": false
   },
   "outputs": [
    {
     "name": "stdout",
     "output_type": "stream",
     "text": [
      "37550402023\n",
      "37550402023\n",
      "37550402023\n",
      "37550402023\n",
      "1 loop, best of 3: 5.5 s per loop\n"
     ]
    }
   ],
   "source": [
    "#java:\n",
    "%timeit ! java Benchmarks"
   ]
  },
  {
   "cell_type": "code",
   "execution_count": 30,
   "metadata": {
    "collapsed": false
   },
   "outputs": [
    {
     "name": "stdout",
     "output_type": "stream",
     "text": [
      "375504020233755040202337550402023375504020231 loop, best of 3: 487 ms per loop\n"
     ]
    }
   ],
   "source": [
    "# c++:\n",
    "%timeit ! ./benchmarks"
   ]
  },
  {
   "cell_type": "code",
   "execution_count": 42,
   "metadata": {
    "collapsed": false
   },
   "outputs": [
    {
     "name": "stdout",
     "output_type": "stream",
     "text": [
      "Writing benchmarks_pypy_2.py\n"
     ]
    }
   ],
   "source": [
    "# writting pypy file\n",
    "%%writefile -a benchmarks_pypy_2.py\n",
    "import Euler as eu\n",
    "def sum_primes_below(n):\n",
    "    sum = 0\n",
    "    i = 2\n",
    "    while i <= n:\n",
    "        if eu.miller_rabin(i):\n",
    "            sum +=i\n",
    "            i += 1\n",
    "        else:\n",
    "            i += 1\n",
    "    return sum\n",
    "print(sum_primes_below(1000000))"
   ]
  },
  {
   "cell_type": "code",
   "execution_count": 44,
   "metadata": {
    "collapsed": false
   },
   "outputs": [],
   "source": [
    "# Finally python with JIT, i.e. pypy"
   ]
  },
  {
   "cell_type": "code",
   "execution_count": 45,
   "metadata": {
    "collapsed": false
   },
   "outputs": [
    {
     "name": "stdout",
     "output_type": "stream",
     "text": [
      "37550402023\n",
      "37550402023\n",
      "37550402023\n",
      "37550402023\n",
      "1 loop, best of 3: 1.47 s per loop\n"
     ]
    }
   ],
   "source": [
    "%timeit ! pypy benchmarks_pypy_2.py"
   ]
  },
  {
   "cell_type": "markdown",
   "metadata": {},
   "source": [
    "***Results***\n",
    "\n",
    "Taking, obviously the best,  c++ as 100%:\n",
    "1. c++ -> 100% , 0.487ms\n",
    "2. pypy -> 301.8%, 1.47 s\n",
    "3. java -> 1129.3%, 5.5 s\n",
    "4. scheme -> 2874.7%, 14 s\n",
    "5. cpython -> 3285.4%, 16 s\n",
    "\n",
    "While the firs place is not a surprise, I don't know why java is so slow comparing to pypy (I compiled file with no flags added [javac 'filename']...).\n",
    "All the  algorithms are similar, while loop, and miller rabin test. Listings (python code above):"
   ]
  },
  {
   "cell_type": "code",
   "execution_count": 46,
   "metadata": {
    "collapsed": false
   },
   "outputs": [
    {
     "name": "stdout",
     "output_type": "stream",
     "text": [
      "\r\n",
      "import java.math.BigInteger;\r\n",
      "import java.util.*;\r\n",
      "\r\n",
      "public class Benchmarks {\r\n",
      "\tpublic static long sumOfPrimes(long n) {\r\n",
      "\t\tlong sum = 0;\r\n",
      "\t\tlong i = 2;\r\n",
      "\t\twhile (i <= n) {\r\n",
      "\t\t\tBigInteger tmp = new BigInteger(Long.toString(i));\r\n",
      "\t\t\tif (tmp.isProbablePrime(50)) {\r\n",
      "\t\t\t\tsum += i;\r\n",
      "\t\t\t\ti += 1;\r\n",
      "\t\t\t}\r\n",
      "\t\t\telse\r\n",
      "\t\t\t\ti += 1;\r\n",
      "\t\t}\r\n",
      "\t\treturn sum;\r\n",
      "\t}\r\n",
      "\tpublic static void main(String [] args) {\r\n",
      "\t\t//final long startTime = System.currentTimeMillis();\r\n",
      "\t\tSystem.out.println(sumOfPrimes(1000000));\r\n",
      "\t\t//final long endTime = System.currentTimeMillis();\r\n",
      "\t\t//System.out.println(\"Total execution time: \" + (endTime - startTime));\r\n",
      "\t}\r\n",
      "}\r\n"
     ]
    }
   ],
   "source": [
    "! cat Benchmarks.java"
   ]
  },
  {
   "cell_type": "code",
   "execution_count": 52,
   "metadata": {
    "collapsed": false
   },
   "outputs": [
    {
     "name": "stdout",
     "output_type": "stream",
     "text": [
      "#lang racket\r\n",
      "(require racket/include)\r\n",
      "(include \"millerrabin.rkt\")\r\n",
      " \r\n",
      "\r\n",
      "(define (reduce xs f start)\r\n",
      "  (if (empty? xs) start\r\n",
      "      (reduce (cdr xs) f (f start (car xs)))))\r\n",
      "\r\n",
      "(reduce (filter prime? (range 2 1000000)) + 0)"
     ]
    }
   ],
   "source": [
    "! cat racket_tests.rkt"
   ]
  }
 ],
 "metadata": {
  "anaconda-cloud": {},
  "kernelspec": {
   "display_name": "Python [default]",
   "language": "python",
   "name": "python3"
  },
  "language_info": {
   "codemirror_mode": {
    "name": "ipython",
    "version": 3
   },
   "file_extension": ".py",
   "mimetype": "text/x-python",
   "name": "python",
   "nbconvert_exporter": "python",
   "pygments_lexer": "ipython3",
   "version": "3.5.2"
  }
 },
 "nbformat": 4,
 "nbformat_minor": 1
}
