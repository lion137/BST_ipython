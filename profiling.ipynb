{
 "cells": [
  {
   "cell_type": "raw",
   "metadata": {},
   "source": [
    "Optimization using %%timeit, profilling with %%prun (%%timeit?) "
   ]
  },
  {
   "cell_type": "code",
   "execution_count": 2,
   "metadata": {
    "collapsed": false
   },
   "outputs": [
    {
     "name": "stdout",
     "output_type": "stream",
     "text": [
      "1 loop, best of 3: 472 ms per loop\n"
     ]
    }
   ],
   "source": [
    "x = 1000000\n",
    "\n",
    "%timeit sum([1. /s**3 for s in range(1, x)])"
   ]
  },
  {
   "cell_type": "code",
   "execution_count": 5,
   "metadata": {
    "collapsed": false
   },
   "outputs": [
    {
     "name": "stdout",
     "output_type": "stream",
     "text": [
      "10 loops, best of 3: 35.6 ms per loop\n"
     ]
    }
   ],
   "source": [
    "x = 100000\n",
    "%timeit sum([s**2 for s in range(1, x)])"
   ]
  },
  {
   "cell_type": "code",
   "execution_count": 6,
   "metadata": {
    "collapsed": false
   },
   "outputs": [
    {
     "name": "stdout",
     "output_type": "stream",
     "text": [
      "10 loops, best of 3: 42.8 ms per loop\n"
     ]
    }
   ],
   "source": [
    "n = 100000\n",
    "%timeit sum([1. / i**2 for i in range(1, n)])"
   ]
  },
  {
   "cell_type": "code",
   "execution_count": 25,
   "metadata": {
    "collapsed": true
   },
   "outputs": [],
   "source": [
    "import numpy as np\n",
    "import math"
   ]
  },
  {
   "cell_type": "code",
   "execution_count": 9,
   "metadata": {
    "collapsed": false
   },
   "outputs": [
    {
     "name": "stdout",
     "output_type": "stream",
     "text": [
      "The slowest run took 22.50 times longer than the fastest. This could mean that an intermediate result is being cached.\n",
      "1000 loops, best of 3: 673 µs per loop\n"
     ]
    }
   ],
   "source": [
    "%timeit np.sum(1. / np.arange(1., n) ** 2)"
   ]
  },
  {
   "cell_type": "raw",
   "metadata": {},
   "source": [
    "%%prun parameters: -s sort by particular column -q quell: supress pager output \n",
    "-l to limit nmber of lines or filter results by function name, -T to save in file, \n",
    "-r to return to python"
   ]
  },
  {
   "cell_type": "code",
   "execution_count": 36,
   "metadata": {
    "collapsed": false
   },
   "outputs": [
    {
     "name": "stdout",
     "output_type": "stream",
     "text": [
      "prime  1\n",
      "prime  2\n",
      "prime  3\n",
      "prime  4\n",
      " \n",
      "*** Profile printout saved to text file 'prime_res.txt'. \n"
     ]
    }
   ],
   "source": [
    "%%prun -s tottime -q -l 30 -T prime_res.txt\n",
    "    \n",
    "def is_prime(x):\n",
    "    i = 2\n",
    "    while i < math.sqrt(x):\n",
    "        if n % i == 0:\n",
    "            i += 1\n",
    "            return 0\n",
    "    return 1\n",
    "n = 10000\n",
    "for i in range(1, n + 1):\n",
    "    if is_prime(i):\n",
    "        print(\"prime \", i)"
   ]
  },
  {
   "cell_type": "code",
   "execution_count": 37,
   "metadata": {
    "collapsed": false
   },
   "outputs": [
    {
     "name": "stdout",
     "output_type": "stream",
     "text": [
      "         20110 function calls in 0.020 seconds\n",
      "\n",
      "   Ordered by: internal time\n",
      "\n",
      "   ncalls  tottime  percall  cumtime  percall filename:lineno(function)\n",
      "    10000    0.011    0.000    0.013    0.000 <string>:3(is_prime)\n",
      "        1    0.005    0.005    0.019    0.019 <string>:3(<module>)\n",
      "    10000    0.002    0.000    0.002    0.000 {built-in method math.sqrt}\n",
      "        1    0.000    0.000    0.020    0.020 {built-in method builtins.exec}\n",
      "       16    0.000    0.000    0.000    0.000 iostream.py:309(write)\n",
      "       16    0.000    0.000    0.000    0.000 iostream.py:241(_schedule_flush)\n",
      "        4    0.000    0.000    0.000    0.000 {built-in method builtins.print}\n",
      "        1    0.000    0.000    0.000    0.000 ioloop.py:932(add_callback)\n",
      "       16    0.000    0.000    0.000    0.000 iostream.py:228(_is_master_process)\n",
      "        1    0.000    0.000    0.000    0.000 {method 'write' of '_io.FileIO' objects}\n",
      "        1    0.000    0.000    0.000    0.000 stack_context.py:253(wrap)\n",
      "       16    0.000    0.000    0.000    0.000 {method 'write' of '_io.StringIO' objects}\n",
      "        1    0.000    0.000    0.000    0.000 posix.py:53(wake)\n",
      "       16    0.000    0.000    0.000    0.000 {built-in method posix.getpid}\n",
      "       16    0.000    0.000    0.000    0.000 {built-in method builtins.isinstance}\n",
      "        1    0.000    0.000    0.000    0.000 {built-in method builtins.hasattr}\n",
      "        1    0.000    0.000    0.000    0.000 {built-in method _thread.get_ident}\n",
      "        1    0.000    0.000    0.000    0.000 {method 'append' of 'list' objects}\n",
      "        1    0.000    0.000    0.000    0.000 {method 'disable' of '_lsprof.Profiler' objects}\n"
     ]
    }
   ],
   "source": [
    "print(open('prime_res.txt', 'r').read())"
   ]
  },
  {
   "cell_type": "code",
   "execution_count": 40,
   "metadata": {
    "collapsed": false
   },
   "outputs": [
    {
     "name": "stdout",
     "output_type": "stream",
     "text": [
      "prime  1\n",
      "prime  2\n",
      "prime  3\n",
      "prime  4\n",
      " \n",
      "*** Profile printout saved to text file 'prime_res.txt'. \n"
     ]
    }
   ],
   "source": [
    "%%prun -s tottime -q -l 30 -T prime_res.txt\n",
    "def is_prime(x):\n",
    "    i = 2\n",
    "    limit = math.sqrt(x)\n",
    "    while i < limit:\n",
    "        if n % i == 0:\n",
    "            i += 1\n",
    "            return 0\n",
    "    return 1\n",
    "n = 100000 # one more zero\n",
    "for i in range(1, n + 1):\n",
    "    if is_prime(i):\n",
    "        print(\"prime \", i)"
   ]
  },
  {
   "cell_type": "code",
   "execution_count": 41,
   "metadata": {
    "collapsed": false
   },
   "outputs": [
    {
     "name": "stdout",
     "output_type": "stream",
     "text": [
      "         200110 function calls in 0.096 seconds\n",
      "\n",
      "   Ordered by: internal time\n",
      "\n",
      "   ncalls  tottime  percall  cumtime  percall filename:lineno(function)\n",
      "   100000    0.055    0.000    0.068    0.000 <string>:2(is_prime)\n",
      "        1    0.028    0.028    0.096    0.096 <string>:2(<module>)\n",
      "   100000    0.013    0.000    0.013    0.000 {built-in method math.sqrt}\n",
      "        1    0.000    0.000    0.096    0.096 {built-in method builtins.exec}\n",
      "       16    0.000    0.000    0.000    0.000 iostream.py:309(write)\n",
      "       16    0.000    0.000    0.000    0.000 iostream.py:241(_schedule_flush)\n",
      "        4    0.000    0.000    0.000    0.000 {built-in method builtins.print}\n",
      "        1    0.000    0.000    0.000    0.000 {method 'write' of '_io.FileIO' objects}\n",
      "       16    0.000    0.000    0.000    0.000 iostream.py:228(_is_master_process)\n",
      "        1    0.000    0.000    0.000    0.000 ioloop.py:932(add_callback)\n",
      "        1    0.000    0.000    0.000    0.000 stack_context.py:253(wrap)\n",
      "       16    0.000    0.000    0.000    0.000 {method 'write' of '_io.StringIO' objects}\n",
      "        1    0.000    0.000    0.000    0.000 posix.py:53(wake)\n",
      "       16    0.000    0.000    0.000    0.000 {built-in method builtins.isinstance}\n",
      "       16    0.000    0.000    0.000    0.000 {built-in method posix.getpid}\n",
      "        1    0.000    0.000    0.000    0.000 {built-in method builtins.hasattr}\n",
      "        1    0.000    0.000    0.000    0.000 {built-in method _thread.get_ident}\n",
      "        1    0.000    0.000    0.000    0.000 {method 'append' of 'list' objects}\n",
      "        1    0.000    0.000    0.000    0.000 {method 'disable' of '_lsprof.Profiler' objects}\n"
     ]
    }
   ],
   "source": [
    "print(open('prime_res.txt', 'r').read())"
   ]
  },
  {
   "cell_type": "code",
   "execution_count": 42,
   "metadata": {
    "collapsed": false
   },
   "outputs": [
    {
     "name": "stdout",
     "output_type": "stream",
     "text": [
      "prime  1\n",
      "prime  2\n",
      "prime  3\n",
      "prime  4\n",
      " \n",
      "*** Profile printout saved to text file 'prime_res.txt'. \n"
     ]
    }
   ],
   "source": [
    "%%prun -s tottime -q -l 30 -T prime_res.txt\n",
    "def is_prime(x):\n",
    "    i = 2\n",
    "    limit = math.sqrt(x)\n",
    "    while i < limit: # sqrt out of a loop...\n",
    "        if n % i == 0:\n",
    "            i += 1\n",
    "            return 0\n",
    "    return 1\n",
    "n = 100000 # one more zero\n",
    "for i in range(1, n + 1):\n",
    "    if is_prime(i):\n",
    "        print(\"prime \", i)"
   ]
  },
  {
   "cell_type": "code",
   "execution_count": 44,
   "metadata": {
    "collapsed": false
   },
   "outputs": [
    {
     "name": "stdout",
     "output_type": "stream",
     "text": [
      "         200108 function calls in 0.121 seconds\n",
      "\n",
      "   Ordered by: internal time\n",
      "\n",
      "   ncalls  tottime  percall  cumtime  percall filename:lineno(function)\n",
      "   100000    0.072    0.000    0.087    0.000 <string>:2(is_prime)\n",
      "        1    0.034    0.034    0.121    0.121 <string>:2(<module>)\n",
      "   100000    0.015    0.000    0.015    0.000 {built-in method math.sqrt}\n",
      "        1    0.000    0.000    0.121    0.121 {built-in method builtins.exec}\n",
      "       16    0.000    0.000    0.000    0.000 iostream.py:309(write)\n",
      "        4    0.000    0.000    0.000    0.000 {built-in method builtins.print}\n",
      "       16    0.000    0.000    0.000    0.000 iostream.py:241(_schedule_flush)\n",
      "        1    0.000    0.000    0.000    0.000 ioloop.py:932(add_callback)\n",
      "       16    0.000    0.000    0.000    0.000 iostream.py:228(_is_master_process)\n",
      "        1    0.000    0.000    0.000    0.000 stack_context.py:253(wrap)\n",
      "       16    0.000    0.000    0.000    0.000 {method 'write' of '_io.StringIO' objects}\n",
      "       16    0.000    0.000    0.000    0.000 {built-in method posix.getpid}\n",
      "       16    0.000    0.000    0.000    0.000 {built-in method builtins.isinstance}\n",
      "        1    0.000    0.000    0.000    0.000 {built-in method builtins.hasattr}\n",
      "        1    0.000    0.000    0.000    0.000 {method 'append' of 'list' objects}\n",
      "        1    0.000    0.000    0.000    0.000 {method 'disable' of '_lsprof.Profiler' objects}\n",
      "        1    0.000    0.000    0.000    0.000 {built-in method _thread.get_ident}\n"
     ]
    }
   ],
   "source": [
    "print(open('prime_res.txt', 'r').read())"
   ]
  },
  {
   "cell_type": "raw",
   "metadata": {},
   "source": [
    "public static List<Long> facrec2(List<Long> list,long number) {// it doesn't work now(returns emty list)\n",
    "\t\t\n",
    "\t\tif (number < 2) {\n",
    "\t\t\treturn list;\n",
    "\t\t}\n",
    "\n",
    "\t\tif (number == 2) {\n",
    "\t\t\tlist.add(2L);\n",
    "\t\t\treturn list;\n",
    "\t\t}\n",
    "\n",
    "\t\tfor (long i = 2; i <= number; i++) {\n",
    "\t\t\twhile (number % i == 0) {\n",
    "\t\t\t\tnumber /= i;\n",
    "\t\t\t\tlist.add(i);\n",
    "\t\t\t\treturn facrec2(list,number);\n",
    "\t\t\t}\n",
    "\t\t}\n",
    "\t\treturn null;\n",
    "\t}"
   ]
  },
  {
   "cell_type": "code",
   "execution_count": 52,
   "metadata": {
    "collapsed": false
   },
   "outputs": [
    {
     "name": "stdout",
     "output_type": "stream",
     "text": [
      " \n",
      "*** Profile printout saved to text file 'factorize.txt'. \n"
     ]
    }
   ],
   "source": [
    "%%prun -s tottime -q -l 30 -T factorize.txt\n",
    "def factorize(n):\n",
    "    l1 = []\n",
    "    if n < 2:\n",
    "        return l1\n",
    "    for i in range(2, n + 1):\n",
    "        while n % i == 0:\n",
    "            n //= i\n",
    "            #l1.append(i)\n",
    "    return l1\n",
    "for n in range(4, 10000):\n",
    "    factorize(n)"
   ]
  },
  {
   "cell_type": "code",
   "execution_count": 53,
   "metadata": {
    "collapsed": false
   },
   "outputs": [
    {
     "name": "stdout",
     "output_type": "stream",
     "text": [
      "         41974 function calls in 4.974 seconds\n",
      "\n",
      "   Ordered by: internal time\n",
      "\n",
      "   ncalls  tottime  percall  cumtime  percall filename:lineno(function)\n",
      "     9996    4.965    0.000    4.969    0.000 <string>:2(factorize)\n",
      "        1    0.005    0.005    4.974    4.974 <string>:2(<module>)\n",
      "    31975    0.003    0.000    0.003    0.000 {method 'append' of 'list' objects}\n",
      "        1    0.000    0.000    4.974    4.974 {built-in method builtins.exec}\n",
      "        1    0.000    0.000    0.000    0.000 {method 'disable' of '_lsprof.Profiler' objects}\n"
     ]
    }
   ],
   "source": [
    "print(open('factorize.txt', 'r').read())"
   ]
  },
  {
   "cell_type": "code",
   "execution_count": 56,
   "metadata": {
    "collapsed": false
   },
   "outputs": [
    {
     "name": "stdout",
     "output_type": "stream",
     "text": [
      " \n",
      "*** Profile printout saved to text file 'factorize.txt'. \n"
     ]
    }
   ],
   "source": [
    "%%prun -s tottime -q -l 30 -T factorize.txt\n",
    "k = 2\n",
    "while k < 10000:\n",
    "    l1 = []\n",
    "    for i in range(2, k + 1):\n",
    "        while n % i == 0:\n",
    "            n //= i\n",
    "            l1.append(i)\n",
    "    k += 1"
   ]
  },
  {
   "cell_type": "code",
   "execution_count": 58,
   "metadata": {
    "collapsed": false
   },
   "outputs": [
    {
     "name": "stdout",
     "output_type": "stream",
     "text": [
      "         7 function calls in 7.401 seconds\n",
      "\n",
      "   Ordered by: internal time\n",
      "\n",
      "   ncalls  tottime  percall  cumtime  percall filename:lineno(function)\n",
      "        1    7.401    7.401    7.401    7.401 <string>:2(<module>)\n",
      "        1    0.000    0.000    7.401    7.401 {built-in method builtins.exec}\n",
      "        4    0.000    0.000    0.000    0.000 {method 'append' of 'list' objects}\n",
      "        1    0.000    0.000    0.000    0.000 {method 'disable' of '_lsprof.Profiler' objects}\n"
     ]
    }
   ],
   "source": [
    "print(open('factorize.txt', 'r').read())"
   ]
  },
  {
   "cell_type": "code",
   "execution_count": 59,
   "metadata": {
    "collapsed": false
   },
   "outputs": [
    {
     "name": "stdout",
     "output_type": "stream",
     "text": [
      " \n",
      "*** Profile printout saved to text file 'factorize.txt'. \n"
     ]
    }
   ],
   "source": [
    "%%prun -s tottime -q -l 30 -T factorize.txt\n",
    "def factorize(n):\n",
    "    l1 = []\n",
    "    if n < 2:\n",
    "        return l1\n",
    "    for i in range(2, n + 1):\n",
    "        while n % i == 0:\n",
    "            n //= i\n",
    "            #l1.append(i) commented\n",
    "    return l1\n",
    "for n in range(4, 10000):\n",
    "    factorize(n)"
   ]
  },
  {
   "cell_type": "code",
   "execution_count": 60,
   "metadata": {
    "collapsed": false
   },
   "outputs": [
    {
     "name": "stdout",
     "output_type": "stream",
     "text": [
      "         9999 function calls in 5.200 seconds\n",
      "\n",
      "   Ordered by: internal time\n",
      "\n",
      "   ncalls  tottime  percall  cumtime  percall filename:lineno(function)\n",
      "     9996    5.194    0.001    5.194    0.001 <string>:2(factorize)\n",
      "        1    0.006    0.006    5.200    5.200 <string>:2(<module>)\n",
      "        1    0.000    0.000    5.200    5.200 {built-in method builtins.exec}\n",
      "        1    0.000    0.000    0.000    0.000 {method 'disable' of '_lsprof.Profiler' objects}\n"
     ]
    }
   ],
   "source": [
    "print(open('factorize.txt', 'r').read())"
   ]
  }
 ],
 "metadata": {
  "anaconda-cloud": {},
  "kernelspec": {
   "display_name": "Python [default]",
   "language": "python",
   "name": "python3"
  },
  "language_info": {
   "codemirror_mode": {
    "name": "ipython",
    "version": 3
   },
   "file_extension": ".py",
   "mimetype": "text/x-python",
   "name": "python",
   "nbconvert_exporter": "python",
   "pygments_lexer": "ipython3",
   "version": "3.5.2"
  }
 },
 "nbformat": 4,
 "nbformat_minor": 1
}
