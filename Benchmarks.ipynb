{
 "cells": [
  {
   "cell_type": "markdown",
   "metadata": {},
   "source": [
    "# Comparizon of time effeciency for JVM, python, pypy, scheme."
   ]
  },
  {
   "cell_type": "code",
   "execution_count": 2,
   "metadata": {
    "collapsed": true
   },
   "outputs": [],
   "source": [
    "# F\n"
   ]
  },
  {
   "cell_type": "raw",
   "metadata": {},
   "source": [
    "int main()\n",
    "{\n",
    "    int num, count, total = 0;    \n",
    "    printf(\"Enter an Integer:\\t\");\n",
    "    scanf(\"%d\", &num);\n",
    "    count = 5;\n",
    "    while((num/count) >= 1)  \n",
    "    {   \n",
    "        total = total + num/count;\n",
    "        count = count * 5;\n",
    "    }   \n",
    "    printf(\"Total Number of Trailing Zeroes: \\t%d\", total);\n",
    "    printf(\"\\n\");\n",
    "    return 0;\n",
    "}"
   ]
  },
  {
   "cell_type": "code",
   "execution_count": 12,
   "metadata": {
    "collapsed": true
   },
   "outputs": [],
   "source": [
    "def trailing_zeros(num):\n",
    "    cnt = 5\n",
    "    res = 0\n",
    "    while num // cnt >= 1:\n",
    "        res += res + num // cnt\n",
    "        cnt *= 5\n",
    "    return res\n",
    "    "
   ]
  },
  {
   "cell_type": "code",
   "execution_count": 19,
   "metadata": {
    "collapsed": false
   },
   "outputs": [
    {
     "name": "stdout",
     "output_type": "stream",
     "text": [
      "0\n"
     ]
    }
   ],
   "source": [
    "print(trailing_zeros(0))"
   ]
  },
  {
   "cell_type": "code",
   "execution_count": 3,
   "metadata": {
    "collapsed": false
   },
   "outputs": [],
   "source": [
    "import Euler as eu"
   ]
  },
  {
   "cell_type": "code",
   "execution_count": 1,
   "metadata": {
    "collapsed": false
   },
   "outputs": [],
   "source": [
    "def sum_primes_below(n):\n",
    "    sum = 0\n",
    "    i = 2\n",
    "    while i <= n:\n",
    "        if eu.miller_rabin(i):\n",
    "            sum +=i\n",
    "            i += 1\n",
    "        else:\n",
    "            i += 1\n",
    "    return sum"
   ]
  },
  {
   "cell_type": "code",
   "execution_count": 14,
   "metadata": {
    "collapsed": false
   },
   "outputs": [
    {
     "name": "stdout",
     "output_type": "stream",
     "text": [
      "37550402023\n",
      "CPU times: user 16 s, sys: 0 ns, total: 16 s\n",
      "Wall time: 16 s\n"
     ]
    }
   ],
   "source": [
    "%time print(sum_primes_below(1000000))"
   ]
  },
  {
   "cell_type": "code",
   "execution_count": 15,
   "metadata": {
    "collapsed": false
   },
   "outputs": [
    {
     "name": "stdout",
     "output_type": "stream",
     "text": [
      "37550402023\n",
      "CPU times: user 248 ms, sys: 28 ms, total: 276 ms\n",
      "Wall time: 14 s\n"
     ]
    }
   ],
   "source": [
    "% time! racket racket_tests.rkt"
   ]
  },
  {
   "cell_type": "code",
   "execution_count": 11,
   "metadata": {
    "collapsed": false
   },
   "outputs": [],
   "source": []
  },
  {
   "cell_type": "code",
   "execution_count": 17,
   "metadata": {
    "collapsed": false
   },
   "outputs": [],
   "source": [
    "! touch Benchmarks.java"
   ]
  },
  {
   "cell_type": "code",
   "execution_count": 20,
   "metadata": {
    "collapsed": false
   },
   "outputs": [],
   "source": [
    "! javac Benchmarks.java"
   ]
  },
  {
   "cell_type": "code",
   "execution_count": 24,
   "metadata": {
    "collapsed": false
   },
   "outputs": [
    {
     "name": "stdout",
     "output_type": "stream",
     "text": [
      "37550402023\n",
      "CPU times: user 104 ms, sys: 16 ms, total: 120 ms\n",
      "Wall time: 5.82 s\n"
     ]
    }
   ],
   "source": [
    "%time ! java Benchmarks"
   ]
  },
  {
   "cell_type": "raw",
   "metadata": {},
   "source": [
    "Java program uses bigintegers and is probable prime function, this is suppose to be optimal, but maybe can be \n",
    "done better."
   ]
  },
  {
   "cell_type": "code",
   "execution_count": 25,
   "metadata": {
    "collapsed": false
   },
   "outputs": [
    {
     "name": "stdout",
     "output_type": "stream",
     "text": [
      "\r\n",
      "import java.math.BigInteger;\r\n",
      "import java.util.*;\r\n",
      "\r\n",
      "public class Benchmarks {\r\n",
      "\tpublic static long sumOfPrimes(long n) {\r\n",
      "\t\tlong sum = 0;\r\n",
      "\t\tlong i = 2;\r\n",
      "\t\twhile (i <= n) {\r\n",
      "\t\t\tBigInteger tmp = new BigInteger(Long.toString(i));\r\n",
      "\t\t\tif (tmp.isProbablePrime(50)) {\r\n",
      "\t\t\t\tsum += i;\r\n",
      "\t\t\t\ti += 1;\r\n",
      "\t\t\t}\r\n",
      "\t\t\telse\r\n",
      "\t\t\t\ti += 1;\r\n",
      "\t\t}\r\n",
      "\t\treturn sum;\r\n",
      "\t}\r\n",
      "\tpublic static void main(String [] args) {\r\n",
      "\t\t//final long startTime = System.currentTimeMillis();\r\n",
      "\t\tSystem.out.println(sumOfPrimes(1000000));\r\n",
      "\t\t//final long endTime = System.currentTimeMillis();\r\n",
      "\t\t//System.out.println(\"Total execution time: \" + (endTime - startTime));\r\n",
      "\t}\r\n",
      "}\r\n"
     ]
    }
   ],
   "source": [
    "! cat Benchmarks.java"
   ]
  },
  {
   "cell_type": "code",
   "execution_count": null,
   "metadata": {
    "collapsed": true
   },
   "outputs": [],
   "source": []
  }
 ],
 "metadata": {
  "anaconda-cloud": {},
  "kernelspec": {
   "display_name": "Python [default]",
   "language": "python",
   "name": "python3"
  },
  "language_info": {
   "codemirror_mode": {
    "name": "ipython",
    "version": 3
   },
   "file_extension": ".py",
   "mimetype": "text/x-python",
   "name": "python",
   "nbconvert_exporter": "python",
   "pygments_lexer": "ipython3",
   "version": "3.5.2"
  }
 },
 "nbformat": 4,
 "nbformat_minor": 1
}
